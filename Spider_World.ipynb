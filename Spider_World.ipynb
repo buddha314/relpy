{
 "cells": [
  {
   "cell_type": "markdown",
   "metadata": {},
   "source": [
    "# Spider World\n",
    "\n",
    "At least that's what I'm thinking it is now, will probably change.  I want an agent that can walk around, ultimately using a DQN to decide.  Let's start with walking.  I was thinking a grid, but a radial approach might be better, like a dart board.\n",
    "\n",
    "...Nah...  Too hard to program."
   ]
  },
  {
   "cell_type": "code",
   "execution_count": 20,
   "metadata": {},
   "outputs": [],
   "source": [
    "import numpy as np"
   ]
  },
  {
   "cell_type": "code",
   "execution_count": 1,
   "metadata": {},
   "outputs": [],
   "source": [
    "h = 11  # an hxh grid.  The origin is in the lower left"
   ]
  },
  {
   "cell_type": "code",
   "execution_count": 19,
   "metadata": {},
   "outputs": [],
   "source": [
    "movement_choices = [\"N\",\"E\",\"W\",\"S\"]"
   ]
  },
  {
   "cell_type": "code",
   "execution_count": 32,
   "metadata": {},
   "outputs": [],
   "source": [
    "class Agent:\n",
    "    def __init__(self, name, h, x=0, y=0):\n",
    "        self.x = x\n",
    "        self.y = y\n",
    "        self.name = name\n",
    "        self.speed = 1\n",
    "        self.h = h  # size of the world, the agent keeps this for now\n",
    "    \n",
    "    def move(self, direction):\n",
    "        # Dir must be NEWS\n",
    "        if direction == \"N\":\n",
    "            self.y += self.speed\n",
    "        elif direction == \"E\":\n",
    "            self.x += self.speed\n",
    "        elif direction == \"W\":\n",
    "            self.x -= self.speed\n",
    "        elif direction == \"S\":\n",
    "            self.y -= self.speed\n",
    "        \n",
    "        # Keep it indoors\n",
    "        if self.x <= 0:\n",
    "            self.x = 0\n",
    "        if self.x >= h:\n",
    "            self.x = h\n",
    "        if self.y <= 0:\n",
    "            self.y = 0\n",
    "        if self.y >= h:\n",
    "            self.y = h\n",
    "\n",
    "    def position(self):\n",
    "        return (self.x, self.y)"
   ]
  },
  {
   "cell_type": "code",
   "execution_count": 33,
   "metadata": {},
   "outputs": [],
   "source": [
    "bob = Agent(\"bob\", h)"
   ]
  },
  {
   "cell_type": "code",
   "execution_count": 34,
   "metadata": {},
   "outputs": [],
   "source": [
    "def wander(agent, steps=17):\n",
    "    for i in range(steps):\n",
    "        d = np.random.choice(movement_choices)\n",
    "        agent.move(d)\n",
    "    print(agent.position())"
   ]
  },
  {
   "cell_type": "code",
   "execution_count": 39,
   "metadata": {},
   "outputs": [
    {
     "name": "stdout",
     "output_type": "stream",
     "text": [
      "(6, 6)\n"
     ]
    }
   ],
   "source": [
    "wander(bob, steps=100)"
   ]
  },
  {
   "cell_type": "code",
   "execution_count": 31,
   "metadata": {},
   "outputs": [
    {
     "data": {
      "text/plain": [
       "5"
      ]
     },
     "execution_count": 31,
     "metadata": {},
     "output_type": "execute_result"
    }
   ],
   "source": [
    "np.min([7,5])"
   ]
  },
  {
   "cell_type": "code",
   "execution_count": null,
   "metadata": {},
   "outputs": [],
   "source": []
  }
 ],
 "metadata": {
  "kernelspec": {
   "display_name": "Python 2",
   "language": "python",
   "name": "python2"
  },
  "language_info": {
   "codemirror_mode": {
    "name": "ipython",
    "version": 2
   },
   "file_extension": ".py",
   "mimetype": "text/x-python",
   "name": "python",
   "nbconvert_exporter": "python",
   "pygments_lexer": "ipython2",
   "version": "2.7.15"
  }
 },
 "nbformat": 4,
 "nbformat_minor": 2
}
