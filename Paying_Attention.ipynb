{
 "cells": [
  {
   "cell_type": "markdown",
   "metadata": {},
   "source": [
    "# Paying Attention\n",
    "\n",
    "Basic game where the agent has to learn to divide attention between two attackers.  I don't know yet what will signal him to change."
   ]
  },
  {
   "cell_type": "code",
   "execution_count": 1,
   "metadata": {},
   "outputs": [],
   "source": [
    "import random"
   ]
  },
  {
   "cell_type": "code",
   "execution_count": 2,
   "metadata": {},
   "outputs": [],
   "source": [
    "N_EPOCHS = 30\n",
    "COMPASS_POINTS = 12\n",
    "STATE_ROUNDS_SINCE_LAST_ATTACK = [0] * COMPASS_POINTS\n",
    "MAX_MEMORY = 15"
   ]
  },
  {
   "cell_type": "code",
   "execution_count": 3,
   "metadata": {},
   "outputs": [],
   "source": [
    "class Defender():\n",
    "    def __init__(self, hp=None, attention_points=None):\n",
    "        self.hp = hp\n",
    "        self.attention_points = attention_points\n",
    "        self.attention = [0] * self.attention_points\n",
    "        self.attention[0] = 1\n",
    "    \n",
    "    def divide_attention(self):\n",
    "        self.attention = [0] * self.attention_points\n",
    "        self.attention[random.randint(a=0, b=self.attention_points-1)] = 1\n"
   ]
  },
  {
   "cell_type": "code",
   "execution_count": 4,
   "metadata": {},
   "outputs": [],
   "source": [
    "class Attacker():\n",
    "    def __init__(self, attack_interval=None, damage=None, pos=None):\n",
    "        self.attack_interval = attack_interval\n",
    "        self.damage = damage\n",
    "        self.pos = pos\n",
    "        \n",
    "    def attack(self, epoch):\n",
    "        if epoch % self.attack_interval == 0:\n",
    "            return True\n",
    "        else:\n",
    "            return False"
   ]
  },
  {
   "cell_type": "code",
   "execution_count": 5,
   "metadata": {},
   "outputs": [],
   "source": [
    "def melee(attacker, defender):\n",
    "    d = (attacker.pos - defender.attention.index(1)) % COMPASS_POINTS\n",
    "    print(\"\\t position: {pos}  attention: {att}  diff: {d}\".format(pos=attacker.pos, att=defender.attention.index(1), d=d))\n",
    "    dam = -round(attacker.damage * d / COMPASS_POINTS)\n",
    "    return dam"
   ]
  },
  {
   "cell_type": "code",
   "execution_count": 6,
   "metadata": {},
   "outputs": [],
   "source": [
    "attackers = []\n",
    "attackers.append(Attacker(attack_interval=3, pos=3, damage=1))\n",
    "attackers.append(Attacker(attack_interval=7, pos=9, damage=6))"
   ]
  },
  {
   "cell_type": "code",
   "execution_count": 7,
   "metadata": {},
   "outputs": [],
   "source": [
    "darkBlade = Defender(hp=20, attention_points=COMPASS_POINTS)"
   ]
  },
  {
   "cell_type": "code",
   "execution_count": 8,
   "metadata": {},
   "outputs": [
    {
     "name": "stdout",
     "output_type": "stream",
     "text": [
      "Darkblade's hp: 20\n",
      "Darkblade's hp: 20\n",
      "3: attack!\n",
      "\t position: 3  attention: 4  diff: 11\n",
      "Darkblade's hp: 19\n",
      "Darkblade's hp: 19\n",
      "Darkblade's hp: 19\n",
      "6: attack!\n",
      "\t position: 3  attention: 9  diff: 6\n",
      "Darkblade's hp: 19\n",
      "7: attack!\n",
      "\t position: 9  attention: 9  diff: 0\n",
      "Darkblade's hp: 19\n",
      "Darkblade's hp: 19\n",
      "9: attack!\n",
      "\t position: 3  attention: 9  diff: 6\n",
      "Darkblade's hp: 19\n",
      "Darkblade's hp: 19\n",
      "Darkblade's hp: 19\n",
      "12: attack!\n",
      "\t position: 3  attention: 1  diff: 2\n",
      "Darkblade's hp: 19\n",
      "Darkblade's hp: 19\n",
      "14: attack!\n",
      "\t position: 9  attention: 4  diff: 5\n",
      "Darkblade's hp: 17\n",
      "15: attack!\n",
      "\t position: 3  attention: 8  diff: 7\n",
      "Darkblade's hp: 16\n",
      "Darkblade's hp: 16\n",
      "Darkblade's hp: 16\n",
      "18: attack!\n",
      "\t position: 3  attention: 11  diff: 4\n",
      "Darkblade's hp: 16\n",
      "Darkblade's hp: 16\n",
      "Darkblade's hp: 16\n",
      "21: attack!\n",
      "\t position: 3  attention: 8  diff: 7\n",
      "21: attack!\n",
      "\t position: 9  attention: 8  diff: 1\n",
      "Darkblade's hp: 15\n",
      "Darkblade's hp: 15\n",
      "Darkblade's hp: 15\n",
      "24: attack!\n",
      "\t position: 3  attention: 7  diff: 8\n",
      "Darkblade's hp: 14\n",
      "Darkblade's hp: 14\n",
      "Darkblade's hp: 14\n",
      "27: attack!\n",
      "\t position: 3  attention: 5  diff: 10\n",
      "Darkblade's hp: 13\n",
      "28: attack!\n",
      "\t position: 9  attention: 6  diff: 3\n",
      "Darkblade's hp: 11\n",
      "Darkblade's hp: 11\n"
     ]
    }
   ],
   "source": [
    "for e in range(1, N_EPOCHS):\n",
    "    for attacker in attackers:\n",
    "        if attacker.attack(e):\n",
    "            print(\"{e}: attack!\".format(e=e))\n",
    "            STATE_ROUNDS_SINCE_LAST_ATTACK[attacker.pos] = 0\n",
    "            darkBlade.hp += melee(attacker, darkBlade)\n",
    "    if darkBlade.hp <= 0:\n",
    "        print(\"Darkblade is dead!\")\n",
    "        break\n",
    "    print (\"Darkblade's hp: {hp}\".format(hp=darkBlade.hp))\n",
    "    STATE_ROUNDS_SINCE_LAST_ATTACK = [min(x+1, MAX_MEMORY) for x in STATE_ROUNDS_SINCE_LAST_ATTACK]\n",
    "    darkBlade.divide_attention()"
   ]
  },
  {
   "cell_type": "code",
   "execution_count": 9,
   "metadata": {},
   "outputs": [
    {
     "data": {
      "text/plain": [
       "[15, 15, 15, 3, 15, 15, 15, 15, 15, 2, 15, 15]"
      ]
     },
     "execution_count": 9,
     "metadata": {},
     "output_type": "execute_result"
    }
   ],
   "source": [
    "STATE_ROUNDS_SINCE_LAST_ATTACK"
   ]
  },
  {
   "cell_type": "code",
   "execution_count": null,
   "metadata": {},
   "outputs": [],
   "source": []
  }
 ],
 "metadata": {
  "kernelspec": {
   "display_name": "Python 3",
   "language": "python",
   "name": "python3"
  },
  "language_info": {
   "codemirror_mode": {
    "name": "ipython",
    "version": 3
   },
   "file_extension": ".py",
   "mimetype": "text/x-python",
   "name": "python",
   "nbconvert_exporter": "python",
   "pygments_lexer": "ipython3",
   "version": "3.6.6"
  }
 },
 "nbformat": 4,
 "nbformat_minor": 2
}
